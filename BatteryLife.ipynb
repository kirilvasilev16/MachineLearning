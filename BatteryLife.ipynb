{
 "cells": [
  {
   "cell_type": "code",
   "execution_count": 2,
   "metadata": {},
   "outputs": [],
   "source": [
    "import numpy as np\n",
    "\n",
    "from sklearn import datasets, linear_model\n",
    "from sklearn.metrics import mean_squared_error, r2_score\n",
    "import matplotlib.pyplot as plt\n",
    "import pandas as pd"
   ]
  },
  {
   "cell_type": "code",
   "execution_count": 5,
   "metadata": {},
   "outputs": [
    {
     "name": "stdout",
     "output_type": "stream",
     "text": [
      "Mean Squared Error: 2.53\n",
      "Variance: 0.53\n"
     ]
    },
    {
     "data": {
      "image/png": "[encoded data removed]",
      "text/plain": [
       "<Figure size 432x288 with 1 Axes>"
      ]
     },
     "metadata": {},
     "output_type": "display_data"
    }
   ],
   "source": [
    "data = pd.read_csv(\"https://raw.githubusercontent.com/GeekyCamp/geeky-camp-5/master/06-machine-learning/battery-data.csv\", header=None)\n",
    "X = np.array(data[data.columns[0]]).reshape(data.shape[0], 1)\n",
    "Y = np.array(data[data.columns[1]]).reshape(data.shape[0], 1)\n",
    "\n",
    "x_train = X[:-114]\n",
    "y_train = Y[:-114]\n",
    "\n",
    "linear_regression = linear_model.LinearRegression()\n",
    "linear_regression.fit(x_train, y_train)\n",
    "y_pred = linear_regression.predict(Y[30:])\n",
    "y_pred_scatter = linear_regression.predict(Y[-114:])\n",
    "\n",
    "print(\"Mean Squared Error: %.2f\" % mean_squared_error(Y[30:], y_pred))\n",
    "print(\"Variance: %.2f\" % r2_score(Y[30:], y_pred))\n",
    "plt.scatter(X[30:], Y[30:], color=\"black\")\n",
    "plt.scatter(X[-114:], y_pred_scatter, color=\"blue\")\n",
    "plt.xlabel(\"Reload time\")\n",
    "plt.ylabel(\"Usage time\")\n",
    "plt.show()\n"
   ]
  },
  {
   "cell_type": "code",
   "execution_count": null,
   "metadata": {},
   "outputs": [],
   "source": []
  }
 ],
 "metadata": {
  "kernelspec": {
   "display_name": "Python 3",
   "language": "python",
   "name": "python3"
  },
  "language_info": {
   "codemirror_mode": {
    "name": "ipython",
    "version": 3
   },
   "file_extension": ".py",
   "mimetype": "text/x-python",
   "name": "python",
   "nbconvert_exporter": "python",
   "pygments_lexer": "ipython3",
   "version": "3.6.5"
  }
 },
 "nbformat": 4,
 "nbformat_minor": 2
}
